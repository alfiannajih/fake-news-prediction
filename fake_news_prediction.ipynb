{
 "cells": [
  {
   "cell_type": "markdown",
   "id": "722395a7-969f-499a-a466-97e333aa7a08",
   "metadata": {},
   "source": [
    "# Preparation"
   ]
  },
  {
   "cell_type": "markdown",
   "id": "15f5c32e-0b8c-4390-8346-8154e9e304a8",
   "metadata": {},
   "source": [
    "## Import Library"
   ]
  },
  {
   "cell_type": "code",
   "execution_count": 1,
   "id": "d3356990-af40-48f2-b32e-06a57d7edd9b",
   "metadata": {
    "tags": []
   },
   "outputs": [],
   "source": [
    "import numpy as np\n",
    "import pandas as pd\n",
    "import seaborn as sns\n",
    "from matplotlib import pyplot as plt\n",
    "from zipfile import ZipFile"
   ]
  },
  {
   "cell_type": "markdown",
   "id": "d3e888a6-158a-413a-8613-021d64cfc35b",
   "metadata": {},
   "source": [
    "## Import Data"
   ]
  },
  {
   "cell_type": "code",
   "execution_count": 2,
   "id": "904e4840-e35b-437a-a5d6-3a9fcb66acc9",
   "metadata": {
    "tags": []
   },
   "outputs": [
    {
     "name": "stdout",
     "output_type": "stream",
     "text": [
      "['Fake.csv', 'True.csv']\n"
     ]
    }
   ],
   "source": [
    "with ZipFile('fake-and-real-news-dataset.zip') as raw_zip:\n",
    "    raw_zip.extractall(path='datasets')\n",
    "    \n",
    "    file_name = raw_zip.namelist()\n",
    "    \n",
    "    raw_data = []\n",
    "    \n",
    "    for file in file_name:\n",
    "        raw_data.append(pd.read_csv(f'datasets/{file}'))\n",
    "        \n",
    "    print(file_name)"
   ]
  },
  {
   "cell_type": "code",
   "execution_count": 3,
   "id": "2a584df5-52d5-4657-9d43-806d3bc21c45",
   "metadata": {
    "tags": []
   },
   "outputs": [],
   "source": [
    "fake_news = raw_data[0]\n",
    "real_news = raw_data[1]"
   ]
  },
  {
   "cell_type": "markdown",
   "id": "58127150-ce61-4bb3-bb3e-b2f97f1f690e",
   "metadata": {},
   "source": [
    "## Sampling Data"
   ]
  },
  {
   "cell_type": "code",
   "execution_count": 4,
   "id": "b41861fd-d212-4bb1-b0ee-855d3e99654a",
   "metadata": {
    "tags": []
   },
   "outputs": [],
   "source": [
    "from sklearn.utils.random import sample_without_replacement\n",
    "\n",
    "fake_news_index_sampling = sample_without_replacement(fake_news.shape[0], 5000, random_state=0)\n",
    "real_news_index_sampling = sample_without_replacement(real_news.shape[0], 5000, random_state=0)\n",
    "\n",
    "fake_news_sampled = fake_news.loc[:]#fake_news_index_sampling]\n",
    "real_news_sampled = real_news.loc[:]#real_news_index_sampling]"
   ]
  },
  {
   "cell_type": "markdown",
   "id": "4d2992c3-f148-47f8-815e-5102acb0e770",
   "metadata": {},
   "source": [
    "## Add Label"
   ]
  },
  {
   "cell_type": "code",
   "execution_count": 5,
   "id": "865909dc-249e-4f68-9e0d-092c174f767d",
   "metadata": {
    "tags": []
   },
   "outputs": [],
   "source": [
    "fake_news_sampled['fake'] = 1\n",
    "real_news_sampled['fake'] = 0"
   ]
  },
  {
   "cell_type": "markdown",
   "id": "c1252dcb-446f-4d4e-94ea-f6701bc38deb",
   "metadata": {},
   "source": [
    "## Concat Data"
   ]
  },
  {
   "cell_type": "code",
   "execution_count": 6,
   "id": "f3d3ed49-d800-4ae2-b895-e616ee3d5e9a",
   "metadata": {
    "tags": []
   },
   "outputs": [
    {
     "data": {
      "text/html": [
       "<div>\n",
       "<style scoped>\n",
       "    .dataframe tbody tr th:only-of-type {\n",
       "        vertical-align: middle;\n",
       "    }\n",
       "\n",
       "    .dataframe tbody tr th {\n",
       "        vertical-align: top;\n",
       "    }\n",
       "\n",
       "    .dataframe thead th {\n",
       "        text-align: right;\n",
       "    }\n",
       "</style>\n",
       "<table border=\"1\" class=\"dataframe\">\n",
       "  <thead>\n",
       "    <tr style=\"text-align: right;\">\n",
       "      <th></th>\n",
       "      <th>title</th>\n",
       "      <th>text</th>\n",
       "      <th>subject</th>\n",
       "      <th>date</th>\n",
       "      <th>fake</th>\n",
       "    </tr>\n",
       "  </thead>\n",
       "  <tbody>\n",
       "    <tr>\n",
       "      <th>0</th>\n",
       "      <td>Donald Trump Sends Out Embarrassing New Year’...</td>\n",
       "      <td>Donald Trump just couldn t wish all Americans ...</td>\n",
       "      <td>News</td>\n",
       "      <td>December 31, 2017</td>\n",
       "      <td>1</td>\n",
       "    </tr>\n",
       "    <tr>\n",
       "      <th>1</th>\n",
       "      <td>Drunk Bragging Trump Staffer Started Russian ...</td>\n",
       "      <td>House Intelligence Committee Chairman Devin Nu...</td>\n",
       "      <td>News</td>\n",
       "      <td>December 31, 2017</td>\n",
       "      <td>1</td>\n",
       "    </tr>\n",
       "    <tr>\n",
       "      <th>2</th>\n",
       "      <td>Sheriff David Clarke Becomes An Internet Joke...</td>\n",
       "      <td>On Friday, it was revealed that former Milwauk...</td>\n",
       "      <td>News</td>\n",
       "      <td>December 30, 2017</td>\n",
       "      <td>1</td>\n",
       "    </tr>\n",
       "    <tr>\n",
       "      <th>3</th>\n",
       "      <td>Trump Is So Obsessed He Even Has Obama’s Name...</td>\n",
       "      <td>On Christmas day, Donald Trump announced that ...</td>\n",
       "      <td>News</td>\n",
       "      <td>December 29, 2017</td>\n",
       "      <td>1</td>\n",
       "    </tr>\n",
       "    <tr>\n",
       "      <th>4</th>\n",
       "      <td>Pope Francis Just Called Out Donald Trump Dur...</td>\n",
       "      <td>Pope Francis used his annual Christmas Day mes...</td>\n",
       "      <td>News</td>\n",
       "      <td>December 25, 2017</td>\n",
       "      <td>1</td>\n",
       "    </tr>\n",
       "  </tbody>\n",
       "</table>\n",
       "</div>"
      ],
      "text/plain": [
       "                                               title  \\\n",
       "0   Donald Trump Sends Out Embarrassing New Year’...   \n",
       "1   Drunk Bragging Trump Staffer Started Russian ...   \n",
       "2   Sheriff David Clarke Becomes An Internet Joke...   \n",
       "3   Trump Is So Obsessed He Even Has Obama’s Name...   \n",
       "4   Pope Francis Just Called Out Donald Trump Dur...   \n",
       "\n",
       "                                                text subject  \\\n",
       "0  Donald Trump just couldn t wish all Americans ...    News   \n",
       "1  House Intelligence Committee Chairman Devin Nu...    News   \n",
       "2  On Friday, it was revealed that former Milwauk...    News   \n",
       "3  On Christmas day, Donald Trump announced that ...    News   \n",
       "4  Pope Francis used his annual Christmas Day mes...    News   \n",
       "\n",
       "                date  fake  \n",
       "0  December 31, 2017     1  \n",
       "1  December 31, 2017     1  \n",
       "2  December 30, 2017     1  \n",
       "3  December 29, 2017     1  \n",
       "4  December 25, 2017     1  "
      ]
     },
     "execution_count": 6,
     "metadata": {},
     "output_type": "execute_result"
    }
   ],
   "source": [
    "full_data = pd.concat([fake_news_sampled, real_news_sampled], axis=0)\n",
    "\n",
    "full_data.head()"
   ]
  },
  {
   "cell_type": "code",
   "execution_count": 7,
   "id": "a3ec91f0-0223-48f5-962b-822a2f5b3d3d",
   "metadata": {
    "tags": []
   },
   "outputs": [
    {
     "data": {
      "text/html": [
       "<div>\n",
       "<style scoped>\n",
       "    .dataframe tbody tr th:only-of-type {\n",
       "        vertical-align: middle;\n",
       "    }\n",
       "\n",
       "    .dataframe tbody tr th {\n",
       "        vertical-align: top;\n",
       "    }\n",
       "\n",
       "    .dataframe thead th {\n",
       "        text-align: right;\n",
       "    }\n",
       "</style>\n",
       "<table border=\"1\" class=\"dataframe\">\n",
       "  <thead>\n",
       "    <tr style=\"text-align: right;\">\n",
       "      <th></th>\n",
       "      <th>title</th>\n",
       "      <th>fake</th>\n",
       "    </tr>\n",
       "  </thead>\n",
       "  <tbody>\n",
       "    <tr>\n",
       "      <th>0</th>\n",
       "      <td>Donald Trump Sends Out Embarrassing New Year’...</td>\n",
       "      <td>1</td>\n",
       "    </tr>\n",
       "    <tr>\n",
       "      <th>1</th>\n",
       "      <td>Drunk Bragging Trump Staffer Started Russian ...</td>\n",
       "      <td>1</td>\n",
       "    </tr>\n",
       "    <tr>\n",
       "      <th>2</th>\n",
       "      <td>Sheriff David Clarke Becomes An Internet Joke...</td>\n",
       "      <td>1</td>\n",
       "    </tr>\n",
       "    <tr>\n",
       "      <th>3</th>\n",
       "      <td>Trump Is So Obsessed He Even Has Obama’s Name...</td>\n",
       "      <td>1</td>\n",
       "    </tr>\n",
       "    <tr>\n",
       "      <th>4</th>\n",
       "      <td>Pope Francis Just Called Out Donald Trump Dur...</td>\n",
       "      <td>1</td>\n",
       "    </tr>\n",
       "  </tbody>\n",
       "</table>\n",
       "</div>"
      ],
      "text/plain": [
       "                                               title  fake\n",
       "0   Donald Trump Sends Out Embarrassing New Year’...     1\n",
       "1   Drunk Bragging Trump Staffer Started Russian ...     1\n",
       "2   Sheriff David Clarke Becomes An Internet Joke...     1\n",
       "3   Trump Is So Obsessed He Even Has Obama’s Name...     1\n",
       "4   Pope Francis Just Called Out Donald Trump Dur...     1"
      ]
     },
     "execution_count": 7,
     "metadata": {},
     "output_type": "execute_result"
    }
   ],
   "source": [
    "data = full_data[['title', 'fake']]\n",
    "\n",
    "data.head()"
   ]
  },
  {
   "cell_type": "markdown",
   "id": "e2af5eaf-2a16-4033-85bc-a244cfc7ebb0",
   "metadata": {},
   "source": [
    "# Exploratory Data Analysis"
   ]
  },
  {
   "cell_type": "markdown",
   "id": "f331edd1-fc1d-437a-9bb5-9c228de5c831",
   "metadata": {},
   "source": [
    "## Visualize the Length"
   ]
  },
  {
   "cell_type": "code",
   "execution_count": 8,
   "id": "63629d6e-5f04-4f55-9f0e-5dbd865ce026",
   "metadata": {
    "tags": []
   },
   "outputs": [
    {
     "data": {
      "image/png": "[encoded data removed]",
      "text/plain": [
       "<Figure size 640x480 with 1 Axes>"
      ]
     },
     "metadata": {},
     "output_type": "display_data"
    }
   ],
   "source": [
    "sns.histplot(data['title'].apply(len), kde=True, bins=100)\n",
    "\n",
    "plt.ylabel('Length')\n",
    "plt.title('Length Distribution')\n",
    "\n",
    "plt.show()"
   ]
  },
  {
   "cell_type": "markdown",
   "id": "40af9d35-74aa-4e30-b766-005a02b81d94",
   "metadata": {},
   "source": [
    "# Data Preprocessing"
   ]
  },
  {
   "cell_type": "markdown",
   "id": "8d06c14c-200b-473e-b6e1-d1288fc637cb",
   "metadata": {},
   "source": [
    "## Remove Punctuation"
   ]
  },
  {
   "cell_type": "code",
   "execution_count": 9,
   "id": "d972dd41-daf4-45e1-aca9-397d90815d75",
   "metadata": {
    "tags": []
   },
   "outputs": [
    {
     "name": "stderr",
     "output_type": "stream",
     "text": [
      "/tmp/ipykernel_36567/1572702791.py:7: SettingWithCopyWarning: \n",
      "A value is trying to be set on a copy of a slice from a DataFrame.\n",
      "Try using .loc[row_indexer,col_indexer] = value instead\n",
      "\n",
      "See the caveats in the documentation: https://pandas.pydata.org/pandas-docs/stable/user_guide/indexing.html#returning-a-view-versus-a-copy\n",
      "  data['clean_title']= data['title'].apply(lambda x:remove_punctuation(x))\n"
     ]
    },
    {
     "data": {
      "text/html": [
       "<div>\n",
       "<style scoped>\n",
       "    .dataframe tbody tr th:only-of-type {\n",
       "        vertical-align: middle;\n",
       "    }\n",
       "\n",
       "    .dataframe tbody tr th {\n",
       "        vertical-align: top;\n",
       "    }\n",
       "\n",
       "    .dataframe thead th {\n",
       "        text-align: right;\n",
       "    }\n",
       "</style>\n",
       "<table border=\"1\" class=\"dataframe\">\n",
       "  <thead>\n",
       "    <tr style=\"text-align: right;\">\n",
       "      <th></th>\n",
       "      <th>title</th>\n",
       "      <th>fake</th>\n",
       "      <th>clean_title</th>\n",
       "    </tr>\n",
       "  </thead>\n",
       "  <tbody>\n",
       "    <tr>\n",
       "      <th>0</th>\n",
       "      <td>Donald Trump Sends Out Embarrassing New Year’...</td>\n",
       "      <td>1</td>\n",
       "      <td>Donald Trump Sends Out Embarrassing New Years...</td>\n",
       "    </tr>\n",
       "    <tr>\n",
       "      <th>1</th>\n",
       "      <td>Drunk Bragging Trump Staffer Started Russian ...</td>\n",
       "      <td>1</td>\n",
       "      <td>Drunk Bragging Trump Staffer Started Russian ...</td>\n",
       "    </tr>\n",
       "    <tr>\n",
       "      <th>2</th>\n",
       "      <td>Sheriff David Clarke Becomes An Internet Joke...</td>\n",
       "      <td>1</td>\n",
       "      <td>Sheriff David Clarke Becomes An Internet Joke...</td>\n",
       "    </tr>\n",
       "    <tr>\n",
       "      <th>3</th>\n",
       "      <td>Trump Is So Obsessed He Even Has Obama’s Name...</td>\n",
       "      <td>1</td>\n",
       "      <td>Trump Is So Obsessed He Even Has Obamas Name ...</td>\n",
       "    </tr>\n",
       "    <tr>\n",
       "      <th>4</th>\n",
       "      <td>Pope Francis Just Called Out Donald Trump Dur...</td>\n",
       "      <td>1</td>\n",
       "      <td>Pope Francis Just Called Out Donald Trump Dur...</td>\n",
       "    </tr>\n",
       "  </tbody>\n",
       "</table>\n",
       "</div>"
      ],
      "text/plain": [
       "                                               title  fake  \\\n",
       "0   Donald Trump Sends Out Embarrassing New Year’...     1   \n",
       "1   Drunk Bragging Trump Staffer Started Russian ...     1   \n",
       "2   Sheriff David Clarke Becomes An Internet Joke...     1   \n",
       "3   Trump Is So Obsessed He Even Has Obama’s Name...     1   \n",
       "4   Pope Francis Just Called Out Donald Trump Dur...     1   \n",
       "\n",
       "                                         clean_title  \n",
       "0   Donald Trump Sends Out Embarrassing New Years...  \n",
       "1   Drunk Bragging Trump Staffer Started Russian ...  \n",
       "2   Sheriff David Clarke Becomes An Internet Joke...  \n",
       "3   Trump Is So Obsessed He Even Has Obamas Name ...  \n",
       "4   Pope Francis Just Called Out Donald Trump Dur...  "
      ]
     },
     "execution_count": 9,
     "metadata": {},
     "output_type": "execute_result"
    }
   ],
   "source": [
    "from string import punctuation\n",
    "\n",
    "def remove_punctuation(text):\n",
    "    punctuationfree=\"\".join([i for i in text if i not in (punctuation + '‘’')])\n",
    "    return punctuationfree\n",
    "\n",
    "data['clean_title']= data['title'].apply(lambda x:remove_punctuation(x))\n",
    "data.head()"
   ]
  },
  {
   "cell_type": "code",
   "execution_count": 10,
   "id": "2812a7c7-6459-4eed-aae8-ada446ef68b5",
   "metadata": {
    "tags": []
   },
   "outputs": [
    {
     "data": {
      "text/html": [
       "<div>\n",
       "<style scoped>\n",
       "    .dataframe tbody tr th:only-of-type {\n",
       "        vertical-align: middle;\n",
       "    }\n",
       "\n",
       "    .dataframe tbody tr th {\n",
       "        vertical-align: top;\n",
       "    }\n",
       "\n",
       "    .dataframe thead th {\n",
       "        text-align: right;\n",
       "    }\n",
       "</style>\n",
       "<table border=\"1\" class=\"dataframe\">\n",
       "  <thead>\n",
       "    <tr style=\"text-align: right;\">\n",
       "      <th></th>\n",
       "      <th>fake</th>\n",
       "      <th>clean_title</th>\n",
       "    </tr>\n",
       "  </thead>\n",
       "  <tbody>\n",
       "    <tr>\n",
       "      <th>0</th>\n",
       "      <td>1</td>\n",
       "      <td>Donald Trump Sends Out Embarrassing New Years...</td>\n",
       "    </tr>\n",
       "    <tr>\n",
       "      <th>1</th>\n",
       "      <td>1</td>\n",
       "      <td>Drunk Bragging Trump Staffer Started Russian ...</td>\n",
       "    </tr>\n",
       "    <tr>\n",
       "      <th>2</th>\n",
       "      <td>1</td>\n",
       "      <td>Sheriff David Clarke Becomes An Internet Joke...</td>\n",
       "    </tr>\n",
       "    <tr>\n",
       "      <th>3</th>\n",
       "      <td>1</td>\n",
       "      <td>Trump Is So Obsessed He Even Has Obamas Name ...</td>\n",
       "    </tr>\n",
       "    <tr>\n",
       "      <th>4</th>\n",
       "      <td>1</td>\n",
       "      <td>Pope Francis Just Called Out Donald Trump Dur...</td>\n",
       "    </tr>\n",
       "  </tbody>\n",
       "</table>\n",
       "</div>"
      ],
      "text/plain": [
       "   fake                                        clean_title\n",
       "0     1   Donald Trump Sends Out Embarrassing New Years...\n",
       "1     1   Drunk Bragging Trump Staffer Started Russian ...\n",
       "2     1   Sheriff David Clarke Becomes An Internet Joke...\n",
       "3     1   Trump Is So Obsessed He Even Has Obamas Name ...\n",
       "4     1   Pope Francis Just Called Out Donald Trump Dur..."
      ]
     },
     "execution_count": 10,
     "metadata": {},
     "output_type": "execute_result"
    }
   ],
   "source": [
    "data = data.drop('title', axis=1)\n",
    "\n",
    "data.head()"
   ]
  },
  {
   "cell_type": "markdown",
   "id": "d32b68f9-1dd0-4ea2-94ed-22e9a1a47e86",
   "metadata": {},
   "source": [
    "## Lowering the Text"
   ]
  },
  {
   "cell_type": "code",
   "execution_count": 11,
   "id": "77089a04-d2f0-4a8d-b20d-a66144a90b17",
   "metadata": {
    "tags": []
   },
   "outputs": [
    {
     "data": {
      "text/html": [
       "<div>\n",
       "<style scoped>\n",
       "    .dataframe tbody tr th:only-of-type {\n",
       "        vertical-align: middle;\n",
       "    }\n",
       "\n",
       "    .dataframe tbody tr th {\n",
       "        vertical-align: top;\n",
       "    }\n",
       "\n",
       "    .dataframe thead th {\n",
       "        text-align: right;\n",
       "    }\n",
       "</style>\n",
       "<table border=\"1\" class=\"dataframe\">\n",
       "  <thead>\n",
       "    <tr style=\"text-align: right;\">\n",
       "      <th></th>\n",
       "      <th>fake</th>\n",
       "      <th>clean_title</th>\n",
       "      <th>lower_title</th>\n",
       "    </tr>\n",
       "  </thead>\n",
       "  <tbody>\n",
       "    <tr>\n",
       "      <th>0</th>\n",
       "      <td>1</td>\n",
       "      <td>Donald Trump Sends Out Embarrassing New Years...</td>\n",
       "      <td>donald trump sends out embarrassing new years...</td>\n",
       "    </tr>\n",
       "    <tr>\n",
       "      <th>1</th>\n",
       "      <td>1</td>\n",
       "      <td>Drunk Bragging Trump Staffer Started Russian ...</td>\n",
       "      <td>drunk bragging trump staffer started russian ...</td>\n",
       "    </tr>\n",
       "    <tr>\n",
       "      <th>2</th>\n",
       "      <td>1</td>\n",
       "      <td>Sheriff David Clarke Becomes An Internet Joke...</td>\n",
       "      <td>sheriff david clarke becomes an internet joke...</td>\n",
       "    </tr>\n",
       "    <tr>\n",
       "      <th>3</th>\n",
       "      <td>1</td>\n",
       "      <td>Trump Is So Obsessed He Even Has Obamas Name ...</td>\n",
       "      <td>trump is so obsessed he even has obamas name ...</td>\n",
       "    </tr>\n",
       "    <tr>\n",
       "      <th>4</th>\n",
       "      <td>1</td>\n",
       "      <td>Pope Francis Just Called Out Donald Trump Dur...</td>\n",
       "      <td>pope francis just called out donald trump dur...</td>\n",
       "    </tr>\n",
       "  </tbody>\n",
       "</table>\n",
       "</div>"
      ],
      "text/plain": [
       "   fake                                        clean_title  \\\n",
       "0     1   Donald Trump Sends Out Embarrassing New Years...   \n",
       "1     1   Drunk Bragging Trump Staffer Started Russian ...   \n",
       "2     1   Sheriff David Clarke Becomes An Internet Joke...   \n",
       "3     1   Trump Is So Obsessed He Even Has Obamas Name ...   \n",
       "4     1   Pope Francis Just Called Out Donald Trump Dur...   \n",
       "\n",
       "                                         lower_title  \n",
       "0   donald trump sends out embarrassing new years...  \n",
       "1   drunk bragging trump staffer started russian ...  \n",
       "2   sheriff david clarke becomes an internet joke...  \n",
       "3   trump is so obsessed he even has obamas name ...  \n",
       "4   pope francis just called out donald trump dur...  "
      ]
     },
     "execution_count": 11,
     "metadata": {},
     "output_type": "execute_result"
    }
   ],
   "source": [
    "data['lower_title'] = data['clean_title'].apply(lambda x: x.lower())\n",
    "\n",
    "data.head()"
   ]
  },
  {
   "cell_type": "code",
   "execution_count": 12,
   "id": "b94df11d-29ec-47b4-9aac-8c4b743f6d1c",
   "metadata": {
    "tags": []
   },
   "outputs": [
    {
     "data": {
      "text/html": [
       "<div>\n",
       "<style scoped>\n",
       "    .dataframe tbody tr th:only-of-type {\n",
       "        vertical-align: middle;\n",
       "    }\n",
       "\n",
       "    .dataframe tbody tr th {\n",
       "        vertical-align: top;\n",
       "    }\n",
       "\n",
       "    .dataframe thead th {\n",
       "        text-align: right;\n",
       "    }\n",
       "</style>\n",
       "<table border=\"1\" class=\"dataframe\">\n",
       "  <thead>\n",
       "    <tr style=\"text-align: right;\">\n",
       "      <th></th>\n",
       "      <th>fake</th>\n",
       "      <th>lower_title</th>\n",
       "    </tr>\n",
       "  </thead>\n",
       "  <tbody>\n",
       "    <tr>\n",
       "      <th>0</th>\n",
       "      <td>1</td>\n",
       "      <td>donald trump sends out embarrassing new years...</td>\n",
       "    </tr>\n",
       "    <tr>\n",
       "      <th>1</th>\n",
       "      <td>1</td>\n",
       "      <td>drunk bragging trump staffer started russian ...</td>\n",
       "    </tr>\n",
       "    <tr>\n",
       "      <th>2</th>\n",
       "      <td>1</td>\n",
       "      <td>sheriff david clarke becomes an internet joke...</td>\n",
       "    </tr>\n",
       "    <tr>\n",
       "      <th>3</th>\n",
       "      <td>1</td>\n",
       "      <td>trump is so obsessed he even has obamas name ...</td>\n",
       "    </tr>\n",
       "    <tr>\n",
       "      <th>4</th>\n",
       "      <td>1</td>\n",
       "      <td>pope francis just called out donald trump dur...</td>\n",
       "    </tr>\n",
       "  </tbody>\n",
       "</table>\n",
       "</div>"
      ],
      "text/plain": [
       "   fake                                        lower_title\n",
       "0     1   donald trump sends out embarrassing new years...\n",
       "1     1   drunk bragging trump staffer started russian ...\n",
       "2     1   sheriff david clarke becomes an internet joke...\n",
       "3     1   trump is so obsessed he even has obamas name ...\n",
       "4     1   pope francis just called out donald trump dur..."
      ]
     },
     "execution_count": 12,
     "metadata": {},
     "output_type": "execute_result"
    }
   ],
   "source": [
    "data = data.drop('clean_title', axis=1)\n",
    "\n",
    "data.head()"
   ]
  },
  {
   "cell_type": "markdown",
   "id": "94be59de-136c-41dd-8533-fb4b60dae53c",
   "metadata": {},
   "source": [
    "## Tokenization"
   ]
  },
  {
   "cell_type": "code",
   "execution_count": 13,
   "id": "a1139826-6a90-4082-819c-dc4ed840e78a",
   "metadata": {
    "tags": []
   },
   "outputs": [
    {
     "name": "stderr",
     "output_type": "stream",
     "text": [
      "[nltk_data] Downloading package punkt to /home/alfian/nltk_data...\n",
      "[nltk_data]   Package punkt is already up-to-date!\n"
     ]
    },
    {
     "data": {
      "text/html": [
       "<div>\n",
       "<style scoped>\n",
       "    .dataframe tbody tr th:only-of-type {\n",
       "        vertical-align: middle;\n",
       "    }\n",
       "\n",
       "    .dataframe tbody tr th {\n",
       "        vertical-align: top;\n",
       "    }\n",
       "\n",
       "    .dataframe thead th {\n",
       "        text-align: right;\n",
       "    }\n",
       "</style>\n",
       "<table border=\"1\" class=\"dataframe\">\n",
       "  <thead>\n",
       "    <tr style=\"text-align: right;\">\n",
       "      <th></th>\n",
       "      <th>fake</th>\n",
       "      <th>lower_title</th>\n",
       "      <th>tokenized_title</th>\n",
       "    </tr>\n",
       "  </thead>\n",
       "  <tbody>\n",
       "    <tr>\n",
       "      <th>0</th>\n",
       "      <td>1</td>\n",
       "      <td>donald trump sends out embarrassing new years...</td>\n",
       "      <td>[donald, trump, sends, out, embarrassing, new,...</td>\n",
       "    </tr>\n",
       "    <tr>\n",
       "      <th>1</th>\n",
       "      <td>1</td>\n",
       "      <td>drunk bragging trump staffer started russian ...</td>\n",
       "      <td>[drunk, bragging, trump, staffer, started, rus...</td>\n",
       "    </tr>\n",
       "    <tr>\n",
       "      <th>2</th>\n",
       "      <td>1</td>\n",
       "      <td>sheriff david clarke becomes an internet joke...</td>\n",
       "      <td>[sheriff, david, clarke, becomes, an, internet...</td>\n",
       "    </tr>\n",
       "    <tr>\n",
       "      <th>3</th>\n",
       "      <td>1</td>\n",
       "      <td>trump is so obsessed he even has obamas name ...</td>\n",
       "      <td>[trump, is, so, obsessed, he, even, has, obama...</td>\n",
       "    </tr>\n",
       "    <tr>\n",
       "      <th>4</th>\n",
       "      <td>1</td>\n",
       "      <td>pope francis just called out donald trump dur...</td>\n",
       "      <td>[pope, francis, just, called, out, donald, tru...</td>\n",
       "    </tr>\n",
       "  </tbody>\n",
       "</table>\n",
       "</div>"
      ],
      "text/plain": [
       "   fake                                        lower_title  \\\n",
       "0     1   donald trump sends out embarrassing new years...   \n",
       "1     1   drunk bragging trump staffer started russian ...   \n",
       "2     1   sheriff david clarke becomes an internet joke...   \n",
       "3     1   trump is so obsessed he even has obamas name ...   \n",
       "4     1   pope francis just called out donald trump dur...   \n",
       "\n",
       "                                     tokenized_title  \n",
       "0  [donald, trump, sends, out, embarrassing, new,...  \n",
       "1  [drunk, bragging, trump, staffer, started, rus...  \n",
       "2  [sheriff, david, clarke, becomes, an, internet...  \n",
       "3  [trump, is, so, obsessed, he, even, has, obama...  \n",
       "4  [pope, francis, just, called, out, donald, tru...  "
      ]
     },
     "execution_count": 13,
     "metadata": {},
     "output_type": "execute_result"
    }
   ],
   "source": [
    "import nltk\n",
    "from nltk.tokenize import word_tokenize\n",
    "\n",
    "nltk.download('punkt')\n",
    "\n",
    "data['tokenized_title'] = data['lower_title'].apply(lambda x: word_tokenize(x))\n",
    "\n",
    "data.head()"
   ]
  },
  {
   "cell_type": "code",
   "execution_count": 14,
   "id": "2a42afca-5521-45c5-be90-5f0cdbad7c05",
   "metadata": {
    "tags": []
   },
   "outputs": [
    {
     "data": {
      "text/html": [
       "<div>\n",
       "<style scoped>\n",
       "    .dataframe tbody tr th:only-of-type {\n",
       "        vertical-align: middle;\n",
       "    }\n",
       "\n",
       "    .dataframe tbody tr th {\n",
       "        vertical-align: top;\n",
       "    }\n",
       "\n",
       "    .dataframe thead th {\n",
       "        text-align: right;\n",
       "    }\n",
       "</style>\n",
       "<table border=\"1\" class=\"dataframe\">\n",
       "  <thead>\n",
       "    <tr style=\"text-align: right;\">\n",
       "      <th></th>\n",
       "      <th>fake</th>\n",
       "      <th>tokenized_title</th>\n",
       "    </tr>\n",
       "  </thead>\n",
       "  <tbody>\n",
       "    <tr>\n",
       "      <th>0</th>\n",
       "      <td>1</td>\n",
       "      <td>[donald, trump, sends, out, embarrassing, new,...</td>\n",
       "    </tr>\n",
       "    <tr>\n",
       "      <th>1</th>\n",
       "      <td>1</td>\n",
       "      <td>[drunk, bragging, trump, staffer, started, rus...</td>\n",
       "    </tr>\n",
       "    <tr>\n",
       "      <th>2</th>\n",
       "      <td>1</td>\n",
       "      <td>[sheriff, david, clarke, becomes, an, internet...</td>\n",
       "    </tr>\n",
       "    <tr>\n",
       "      <th>3</th>\n",
       "      <td>1</td>\n",
       "      <td>[trump, is, so, obsessed, he, even, has, obama...</td>\n",
       "    </tr>\n",
       "    <tr>\n",
       "      <th>4</th>\n",
       "      <td>1</td>\n",
       "      <td>[pope, francis, just, called, out, donald, tru...</td>\n",
       "    </tr>\n",
       "  </tbody>\n",
       "</table>\n",
       "</div>"
      ],
      "text/plain": [
       "   fake                                    tokenized_title\n",
       "0     1  [donald, trump, sends, out, embarrassing, new,...\n",
       "1     1  [drunk, bragging, trump, staffer, started, rus...\n",
       "2     1  [sheriff, david, clarke, becomes, an, internet...\n",
       "3     1  [trump, is, so, obsessed, he, even, has, obama...\n",
       "4     1  [pope, francis, just, called, out, donald, tru..."
      ]
     },
     "execution_count": 14,
     "metadata": {},
     "output_type": "execute_result"
    }
   ],
   "source": [
    "data = data.drop('lower_title', axis=1)\n",
    "\n",
    "data.head()"
   ]
  },
  {
   "cell_type": "markdown",
   "id": "a1bda717-1caa-4ba2-b5d1-8145217dda0f",
   "metadata": {},
   "source": [
    "## Remove Stop Words"
   ]
  },
  {
   "cell_type": "code",
   "execution_count": 15,
   "id": "acf17c66-aa19-4afb-ba3f-f8bb87973a27",
   "metadata": {
    "tags": []
   },
   "outputs": [
    {
     "name": "stderr",
     "output_type": "stream",
     "text": [
      "[nltk_data] Downloading package stopwords to /home/alfian/nltk_data...\n",
      "[nltk_data]   Package stopwords is already up-to-date!\n"
     ]
    },
    {
     "data": {
      "text/html": [
       "<div>\n",
       "<style scoped>\n",
       "    .dataframe tbody tr th:only-of-type {\n",
       "        vertical-align: middle;\n",
       "    }\n",
       "\n",
       "    .dataframe tbody tr th {\n",
       "        vertical-align: top;\n",
       "    }\n",
       "\n",
       "    .dataframe thead th {\n",
       "        text-align: right;\n",
       "    }\n",
       "</style>\n",
       "<table border=\"1\" class=\"dataframe\">\n",
       "  <thead>\n",
       "    <tr style=\"text-align: right;\">\n",
       "      <th></th>\n",
       "      <th>fake</th>\n",
       "      <th>tokenized_title</th>\n",
       "      <th>no_stopwords_title</th>\n",
       "    </tr>\n",
       "  </thead>\n",
       "  <tbody>\n",
       "    <tr>\n",
       "      <th>0</th>\n",
       "      <td>1</td>\n",
       "      <td>[donald, trump, sends, out, embarrassing, new,...</td>\n",
       "      <td>[donald, trump, sends, embarrassing, new, year...</td>\n",
       "    </tr>\n",
       "    <tr>\n",
       "      <th>1</th>\n",
       "      <td>1</td>\n",
       "      <td>[drunk, bragging, trump, staffer, started, rus...</td>\n",
       "      <td>[drunk, bragging, trump, staffer, started, rus...</td>\n",
       "    </tr>\n",
       "    <tr>\n",
       "      <th>2</th>\n",
       "      <td>1</td>\n",
       "      <td>[sheriff, david, clarke, becomes, an, internet...</td>\n",
       "      <td>[sheriff, david, clarke, becomes, internet, jo...</td>\n",
       "    </tr>\n",
       "    <tr>\n",
       "      <th>3</th>\n",
       "      <td>1</td>\n",
       "      <td>[trump, is, so, obsessed, he, even, has, obama...</td>\n",
       "      <td>[trump, obsessed, even, obamas, name, coded, w...</td>\n",
       "    </tr>\n",
       "    <tr>\n",
       "      <th>4</th>\n",
       "      <td>1</td>\n",
       "      <td>[pope, francis, just, called, out, donald, tru...</td>\n",
       "      <td>[pope, francis, called, donald, trump, christm...</td>\n",
       "    </tr>\n",
       "  </tbody>\n",
       "</table>\n",
       "</div>"
      ],
      "text/plain": [
       "   fake                                    tokenized_title  \\\n",
       "0     1  [donald, trump, sends, out, embarrassing, new,...   \n",
       "1     1  [drunk, bragging, trump, staffer, started, rus...   \n",
       "2     1  [sheriff, david, clarke, becomes, an, internet...   \n",
       "3     1  [trump, is, so, obsessed, he, even, has, obama...   \n",
       "4     1  [pope, francis, just, called, out, donald, tru...   \n",
       "\n",
       "                                  no_stopwords_title  \n",
       "0  [donald, trump, sends, embarrassing, new, year...  \n",
       "1  [drunk, bragging, trump, staffer, started, rus...  \n",
       "2  [sheriff, david, clarke, becomes, internet, jo...  \n",
       "3  [trump, obsessed, even, obamas, name, coded, w...  \n",
       "4  [pope, francis, called, donald, trump, christm...  "
      ]
     },
     "execution_count": 15,
     "metadata": {},
     "output_type": "execute_result"
    }
   ],
   "source": [
    "from nltk.corpus import stopwords\n",
    "\n",
    "nltk.download('stopwords')\n",
    "\n",
    "stopwords_english = stopwords.words('english')\n",
    "\n",
    "def remove_stopwords(text):\n",
    "    output = [i for i in text if i not in stopwords_english]\n",
    "    return output\n",
    "\n",
    "data['no_stopwords_title'] = data['tokenized_title'].apply(lambda x: remove_stopwords(x))\n",
    "\n",
    "data.head()"
   ]
  },
  {
   "cell_type": "code",
   "execution_count": 16,
   "id": "b681252c-4d45-4aa3-bf5e-38c2e19a68d9",
   "metadata": {
    "tags": []
   },
   "outputs": [
    {
     "data": {
      "text/html": [
       "<div>\n",
       "<style scoped>\n",
       "    .dataframe tbody tr th:only-of-type {\n",
       "        vertical-align: middle;\n",
       "    }\n",
       "\n",
       "    .dataframe tbody tr th {\n",
       "        vertical-align: top;\n",
       "    }\n",
       "\n",
       "    .dataframe thead th {\n",
       "        text-align: right;\n",
       "    }\n",
       "</style>\n",
       "<table border=\"1\" class=\"dataframe\">\n",
       "  <thead>\n",
       "    <tr style=\"text-align: right;\">\n",
       "      <th></th>\n",
       "      <th>fake</th>\n",
       "      <th>no_stopwords_title</th>\n",
       "    </tr>\n",
       "  </thead>\n",
       "  <tbody>\n",
       "    <tr>\n",
       "      <th>0</th>\n",
       "      <td>1</td>\n",
       "      <td>[donald, trump, sends, embarrassing, new, year...</td>\n",
       "    </tr>\n",
       "    <tr>\n",
       "      <th>1</th>\n",
       "      <td>1</td>\n",
       "      <td>[drunk, bragging, trump, staffer, started, rus...</td>\n",
       "    </tr>\n",
       "    <tr>\n",
       "      <th>2</th>\n",
       "      <td>1</td>\n",
       "      <td>[sheriff, david, clarke, becomes, internet, jo...</td>\n",
       "    </tr>\n",
       "    <tr>\n",
       "      <th>3</th>\n",
       "      <td>1</td>\n",
       "      <td>[trump, obsessed, even, obamas, name, coded, w...</td>\n",
       "    </tr>\n",
       "    <tr>\n",
       "      <th>4</th>\n",
       "      <td>1</td>\n",
       "      <td>[pope, francis, called, donald, trump, christm...</td>\n",
       "    </tr>\n",
       "  </tbody>\n",
       "</table>\n",
       "</div>"
      ],
      "text/plain": [
       "   fake                                 no_stopwords_title\n",
       "0     1  [donald, trump, sends, embarrassing, new, year...\n",
       "1     1  [drunk, bragging, trump, staffer, started, rus...\n",
       "2     1  [sheriff, david, clarke, becomes, internet, jo...\n",
       "3     1  [trump, obsessed, even, obamas, name, coded, w...\n",
       "4     1  [pope, francis, called, donald, trump, christm..."
      ]
     },
     "execution_count": 16,
     "metadata": {},
     "output_type": "execute_result"
    }
   ],
   "source": [
    "data = data.drop('tokenized_title', axis=1)\n",
    "\n",
    "data.head()"
   ]
  },
  {
   "cell_type": "markdown",
   "id": "4a2b81d2-e8d2-481e-b17c-f1c647a016f1",
   "metadata": {
    "tags": []
   },
   "source": [
    "## Stemming"
   ]
  },
  {
   "cell_type": "code",
   "execution_count": 17,
   "id": "37d8903d-b526-4528-8054-43084951753f",
   "metadata": {
    "tags": []
   },
   "outputs": [
    {
     "data": {
      "text/html": [
       "<div>\n",
       "<style scoped>\n",
       "    .dataframe tbody tr th:only-of-type {\n",
       "        vertical-align: middle;\n",
       "    }\n",
       "\n",
       "    .dataframe tbody tr th {\n",
       "        vertical-align: top;\n",
       "    }\n",
       "\n",
       "    .dataframe thead th {\n",
       "        text-align: right;\n",
       "    }\n",
       "</style>\n",
       "<table border=\"1\" class=\"dataframe\">\n",
       "  <thead>\n",
       "    <tr style=\"text-align: right;\">\n",
       "      <th></th>\n",
       "      <th>fake</th>\n",
       "      <th>no_stopwords_title</th>\n",
       "      <th>stemmed_title</th>\n",
       "    </tr>\n",
       "  </thead>\n",
       "  <tbody>\n",
       "    <tr>\n",
       "      <th>0</th>\n",
       "      <td>1</td>\n",
       "      <td>[donald, trump, sends, embarrassing, new, year...</td>\n",
       "      <td>[donald, trump, send, embarrass, new, year, ev...</td>\n",
       "    </tr>\n",
       "    <tr>\n",
       "      <th>1</th>\n",
       "      <td>1</td>\n",
       "      <td>[drunk, bragging, trump, staffer, started, rus...</td>\n",
       "      <td>[drunk, brag, trump, staffer, start, russian, ...</td>\n",
       "    </tr>\n",
       "    <tr>\n",
       "      <th>2</th>\n",
       "      <td>1</td>\n",
       "      <td>[sheriff, david, clarke, becomes, internet, jo...</td>\n",
       "      <td>[sheriff, david, clark, becom, internet, joke,...</td>\n",
       "    </tr>\n",
       "    <tr>\n",
       "      <th>3</th>\n",
       "      <td>1</td>\n",
       "      <td>[trump, obsessed, even, obamas, name, coded, w...</td>\n",
       "      <td>[trump, obsess, even, obama, name, code, websi...</td>\n",
       "    </tr>\n",
       "    <tr>\n",
       "      <th>4</th>\n",
       "      <td>1</td>\n",
       "      <td>[pope, francis, called, donald, trump, christm...</td>\n",
       "      <td>[pope, franci, call, donald, trump, christma, ...</td>\n",
       "    </tr>\n",
       "  </tbody>\n",
       "</table>\n",
       "</div>"
      ],
      "text/plain": [
       "   fake                                 no_stopwords_title  \\\n",
       "0     1  [donald, trump, sends, embarrassing, new, year...   \n",
       "1     1  [drunk, bragging, trump, staffer, started, rus...   \n",
       "2     1  [sheriff, david, clarke, becomes, internet, jo...   \n",
       "3     1  [trump, obsessed, even, obamas, name, coded, w...   \n",
       "4     1  [pope, francis, called, donald, trump, christm...   \n",
       "\n",
       "                                       stemmed_title  \n",
       "0  [donald, trump, send, embarrass, new, year, ev...  \n",
       "1  [drunk, brag, trump, staffer, start, russian, ...  \n",
       "2  [sheriff, david, clark, becom, internet, joke,...  \n",
       "3  [trump, obsess, even, obama, name, code, websi...  \n",
       "4  [pope, franci, call, donald, trump, christma, ...  "
      ]
     },
     "execution_count": 17,
     "metadata": {},
     "output_type": "execute_result"
    }
   ],
   "source": [
    "from nltk.stem import PorterStemmer\n",
    "\n",
    "stemer = PorterStemmer()\n",
    "\n",
    "def stemming(text):\n",
    "    stem_text = [stemer.stem(word) for word in text]\n",
    "    \n",
    "    return stem_text\n",
    "\n",
    "data['stemmed_title'] = data['no_stopwords_title'].apply(lambda x: stemming(x))\n",
    "\n",
    "data.head()"
   ]
  },
  {
   "cell_type": "code",
   "execution_count": 18,
   "id": "4cebe024-7866-436d-b73d-61bdb291bf5f",
   "metadata": {
    "tags": []
   },
   "outputs": [
    {
     "data": {
      "text/html": [
       "<div>\n",
       "<style scoped>\n",
       "    .dataframe tbody tr th:only-of-type {\n",
       "        vertical-align: middle;\n",
       "    }\n",
       "\n",
       "    .dataframe tbody tr th {\n",
       "        vertical-align: top;\n",
       "    }\n",
       "\n",
       "    .dataframe thead th {\n",
       "        text-align: right;\n",
       "    }\n",
       "</style>\n",
       "<table border=\"1\" class=\"dataframe\">\n",
       "  <thead>\n",
       "    <tr style=\"text-align: right;\">\n",
       "      <th></th>\n",
       "      <th>fake</th>\n",
       "      <th>stemmed_title</th>\n",
       "    </tr>\n",
       "  </thead>\n",
       "  <tbody>\n",
       "    <tr>\n",
       "      <th>0</th>\n",
       "      <td>1</td>\n",
       "      <td>[donald, trump, send, embarrass, new, year, ev...</td>\n",
       "    </tr>\n",
       "    <tr>\n",
       "      <th>1</th>\n",
       "      <td>1</td>\n",
       "      <td>[drunk, brag, trump, staffer, start, russian, ...</td>\n",
       "    </tr>\n",
       "    <tr>\n",
       "      <th>2</th>\n",
       "      <td>1</td>\n",
       "      <td>[sheriff, david, clark, becom, internet, joke,...</td>\n",
       "    </tr>\n",
       "    <tr>\n",
       "      <th>3</th>\n",
       "      <td>1</td>\n",
       "      <td>[trump, obsess, even, obama, name, code, websi...</td>\n",
       "    </tr>\n",
       "    <tr>\n",
       "      <th>4</th>\n",
       "      <td>1</td>\n",
       "      <td>[pope, franci, call, donald, trump, christma, ...</td>\n",
       "    </tr>\n",
       "  </tbody>\n",
       "</table>\n",
       "</div>"
      ],
      "text/plain": [
       "   fake                                      stemmed_title\n",
       "0     1  [donald, trump, send, embarrass, new, year, ev...\n",
       "1     1  [drunk, brag, trump, staffer, start, russian, ...\n",
       "2     1  [sheriff, david, clark, becom, internet, joke,...\n",
       "3     1  [trump, obsess, even, obama, name, code, websi...\n",
       "4     1  [pope, franci, call, donald, trump, christma, ..."
      ]
     },
     "execution_count": 18,
     "metadata": {},
     "output_type": "execute_result"
    }
   ],
   "source": [
    "data = data.drop('no_stopwords_title', axis=1)\n",
    "\n",
    "data.head()"
   ]
  },
  {
   "cell_type": "markdown",
   "id": "fe7534ef-171a-48d3-afd6-26bb3ab1b11c",
   "metadata": {},
   "source": [
    "## Lemmatization"
   ]
  },
  {
   "cell_type": "code",
   "execution_count": 19,
   "id": "244a7088-fe58-4902-8527-d9a89ad1c8ca",
   "metadata": {
    "tags": []
   },
   "outputs": [
    {
     "name": "stderr",
     "output_type": "stream",
     "text": [
      "[nltk_data] Downloading package wordnet to /home/alfian/nltk_data...\n",
      "[nltk_data]   Package wordnet is already up-to-date!\n"
     ]
    },
    {
     "data": {
      "text/html": [
       "<div>\n",
       "<style scoped>\n",
       "    .dataframe tbody tr th:only-of-type {\n",
       "        vertical-align: middle;\n",
       "    }\n",
       "\n",
       "    .dataframe tbody tr th {\n",
       "        vertical-align: top;\n",
       "    }\n",
       "\n",
       "    .dataframe thead th {\n",
       "        text-align: right;\n",
       "    }\n",
       "</style>\n",
       "<table border=\"1\" class=\"dataframe\">\n",
       "  <thead>\n",
       "    <tr style=\"text-align: right;\">\n",
       "      <th></th>\n",
       "      <th>fake</th>\n",
       "      <th>stemmed_title</th>\n",
       "      <th>lemmatized_title</th>\n",
       "    </tr>\n",
       "  </thead>\n",
       "  <tbody>\n",
       "    <tr>\n",
       "      <th>0</th>\n",
       "      <td>1</td>\n",
       "      <td>[donald, trump, send, embarrass, new, year, ev...</td>\n",
       "      <td>[donald, trump, send, embarrass, new, year, ev...</td>\n",
       "    </tr>\n",
       "    <tr>\n",
       "      <th>1</th>\n",
       "      <td>1</td>\n",
       "      <td>[drunk, brag, trump, staffer, start, russian, ...</td>\n",
       "      <td>[drunk, brag, trump, staffer, start, russian, ...</td>\n",
       "    </tr>\n",
       "    <tr>\n",
       "      <th>2</th>\n",
       "      <td>1</td>\n",
       "      <td>[sheriff, david, clark, becom, internet, joke,...</td>\n",
       "      <td>[sheriff, david, clark, becom, internet, joke,...</td>\n",
       "    </tr>\n",
       "    <tr>\n",
       "      <th>3</th>\n",
       "      <td>1</td>\n",
       "      <td>[trump, obsess, even, obama, name, code, websi...</td>\n",
       "      <td>[trump, ob, even, obama, name, code, websit, i...</td>\n",
       "    </tr>\n",
       "    <tr>\n",
       "      <th>4</th>\n",
       "      <td>1</td>\n",
       "      <td>[pope, franci, call, donald, trump, christma, ...</td>\n",
       "      <td>[pope, franci, call, donald, trump, christma, ...</td>\n",
       "    </tr>\n",
       "  </tbody>\n",
       "</table>\n",
       "</div>"
      ],
      "text/plain": [
       "   fake                                      stemmed_title  \\\n",
       "0     1  [donald, trump, send, embarrass, new, year, ev...   \n",
       "1     1  [drunk, brag, trump, staffer, start, russian, ...   \n",
       "2     1  [sheriff, david, clark, becom, internet, joke,...   \n",
       "3     1  [trump, obsess, even, obama, name, code, websi...   \n",
       "4     1  [pope, franci, call, donald, trump, christma, ...   \n",
       "\n",
       "                                    lemmatized_title  \n",
       "0  [donald, trump, send, embarrass, new, year, ev...  \n",
       "1  [drunk, brag, trump, staffer, start, russian, ...  \n",
       "2  [sheriff, david, clark, becom, internet, joke,...  \n",
       "3  [trump, ob, even, obama, name, code, websit, i...  \n",
       "4  [pope, franci, call, donald, trump, christma, ...  "
      ]
     },
     "execution_count": 19,
     "metadata": {},
     "output_type": "execute_result"
    }
   ],
   "source": [
    "from nltk.stem import WordNetLemmatizer\n",
    "\n",
    "nltk.download('wordnet')\n",
    "\n",
    "lemmatizer = WordNetLemmatizer()\n",
    "\n",
    "def lemmatizing(text):\n",
    "    lemm_text = [lemmatizer.lemmatize(word) for word in text]\n",
    "    \n",
    "    return lemm_text\n",
    "\n",
    "data['lemmatized_title'] = data['stemmed_title'].apply(lambda x: lemmatizing(x))\n",
    "\n",
    "data.head()"
   ]
  },
  {
   "cell_type": "code",
   "execution_count": 20,
   "id": "70906f9f-53af-45d5-ba80-ee5010fea6e1",
   "metadata": {
    "tags": []
   },
   "outputs": [
    {
     "data": {
      "text/html": [
       "<div>\n",
       "<style scoped>\n",
       "    .dataframe tbody tr th:only-of-type {\n",
       "        vertical-align: middle;\n",
       "    }\n",
       "\n",
       "    .dataframe tbody tr th {\n",
       "        vertical-align: top;\n",
       "    }\n",
       "\n",
       "    .dataframe thead th {\n",
       "        text-align: right;\n",
       "    }\n",
       "</style>\n",
       "<table border=\"1\" class=\"dataframe\">\n",
       "  <thead>\n",
       "    <tr style=\"text-align: right;\">\n",
       "      <th></th>\n",
       "      <th>fake</th>\n",
       "      <th>lemmatized_title</th>\n",
       "    </tr>\n",
       "  </thead>\n",
       "  <tbody>\n",
       "    <tr>\n",
       "      <th>0</th>\n",
       "      <td>1</td>\n",
       "      <td>[donald, trump, send, embarrass, new, year, ev...</td>\n",
       "    </tr>\n",
       "    <tr>\n",
       "      <th>1</th>\n",
       "      <td>1</td>\n",
       "      <td>[drunk, brag, trump, staffer, start, russian, ...</td>\n",
       "    </tr>\n",
       "    <tr>\n",
       "      <th>2</th>\n",
       "      <td>1</td>\n",
       "      <td>[sheriff, david, clark, becom, internet, joke,...</td>\n",
       "    </tr>\n",
       "    <tr>\n",
       "      <th>3</th>\n",
       "      <td>1</td>\n",
       "      <td>[trump, ob, even, obama, name, code, websit, i...</td>\n",
       "    </tr>\n",
       "    <tr>\n",
       "      <th>4</th>\n",
       "      <td>1</td>\n",
       "      <td>[pope, franci, call, donald, trump, christma, ...</td>\n",
       "    </tr>\n",
       "  </tbody>\n",
       "</table>\n",
       "</div>"
      ],
      "text/plain": [
       "   fake                                   lemmatized_title\n",
       "0     1  [donald, trump, send, embarrass, new, year, ev...\n",
       "1     1  [drunk, brag, trump, staffer, start, russian, ...\n",
       "2     1  [sheriff, david, clark, becom, internet, joke,...\n",
       "3     1  [trump, ob, even, obama, name, code, websit, i...\n",
       "4     1  [pope, franci, call, donald, trump, christma, ..."
      ]
     },
     "execution_count": 20,
     "metadata": {},
     "output_type": "execute_result"
    }
   ],
   "source": [
    "data = data.drop('stemmed_title', axis=1)\n",
    "\n",
    "data.head()"
   ]
  },
  {
   "cell_type": "markdown",
   "id": "4a451ccb-4ab0-4ec3-8d34-539b05fb4006",
   "metadata": {
    "tags": []
   },
   "source": [
    "## Train Test Split"
   ]
  },
  {
   "cell_type": "code",
   "execution_count": 21,
   "id": "2948f5f6-f162-4f71-bb15-06e4940bb1a3",
   "metadata": {},
   "outputs": [],
   "source": [
    "from sklearn.model_selection import train_test_split\n",
    "\n",
    "X_train, X_test, y_train, y_test = train_test_split(\n",
    "    data['lemmatized_title'],\n",
    "    data['fake'],\n",
    "    test_size=0.2,\n",
    "    random_state=0\n",
    ")"
   ]
  },
  {
   "cell_type": "markdown",
   "id": "56a056b2-2460-4e24-9ad7-f3c20fc1cdd0",
   "metadata": {},
   "source": [
    "## Vectorization"
   ]
  },
  {
   "cell_type": "code",
   "execution_count": 33,
   "id": "1a69e8bf-5c46-4915-aa1d-4ef184b9c9e7",
   "metadata": {
    "tags": []
   },
   "outputs": [
    {
     "name": "stderr",
     "output_type": "stream",
     "text": [
      "/home/alfian/.local/lib/python3.11/site-packages/sklearn/feature_extraction/text.py:528: UserWarning: The parameter 'token_pattern' will not be used since 'tokenizer' is not None'\n",
      "  warnings.warn(\n"
     ]
    },
    {
     "data": {
      "text/html": [
       "<style>#sk-container-id-3 {color: black;background-color: white;}#sk-container-id-3 pre{padding: 0;}#sk-container-id-3 div.sk-toggleable {background-color: white;}#sk-container-id-3 label.sk-toggleable__label {cursor: pointer;display: block;width: 100%;margin-bottom: 0;padding: 0.3em;box-sizing: border-box;text-align: center;}#sk-container-id-3 label.sk-toggleable__label-arrow:before {content: \"▸\";float: left;margin-right: 0.25em;color: #696969;}#sk-container-id-3 label.sk-toggleable__label-arrow:hover:before {color: black;}#sk-container-id-3 div.sk-estimator:hover label.sk-toggleable__label-arrow:before {color: black;}#sk-container-id-3 div.sk-toggleable__content {max-height: 0;max-width: 0;overflow: hidden;text-align: left;background-color: #f0f8ff;}#sk-container-id-3 div.sk-toggleable__content pre {margin: 0.2em;color: black;border-radius: 0.25em;background-color: #f0f8ff;}#sk-container-id-3 input.sk-toggleable__control:checked~div.sk-toggleable__content {max-height: 200px;max-width: 100%;overflow: auto;}#sk-container-id-3 input.sk-toggleable__control:checked~label.sk-toggleable__label-arrow:before {content: \"▾\";}#sk-container-id-3 div.sk-estimator input.sk-toggleable__control:checked~label.sk-toggleable__label {background-color: #d4ebff;}#sk-container-id-3 div.sk-label input.sk-toggleable__control:checked~label.sk-toggleable__label {background-color: #d4ebff;}#sk-container-id-3 input.sk-hidden--visually {border: 0;clip: rect(1px 1px 1px 1px);clip: rect(1px, 1px, 1px, 1px);height: 1px;margin: -1px;overflow: hidden;padding: 0;position: absolute;width: 1px;}#sk-container-id-3 div.sk-estimator {font-family: monospace;background-color: #f0f8ff;border: 1px dotted black;border-radius: 0.25em;box-sizing: border-box;margin-bottom: 0.5em;}#sk-container-id-3 div.sk-estimator:hover {background-color: #d4ebff;}#sk-container-id-3 div.sk-parallel-item::after {content: \"\";width: 100%;border-bottom: 1px solid gray;flex-grow: 1;}#sk-container-id-3 div.sk-label:hover label.sk-toggleable__label {background-color: #d4ebff;}#sk-container-id-3 div.sk-serial::before {content: \"\";position: absolute;border-left: 1px solid gray;box-sizing: border-box;top: 0;bottom: 0;left: 50%;z-index: 0;}#sk-container-id-3 div.sk-serial {display: flex;flex-direction: column;align-items: center;background-color: white;padding-right: 0.2em;padding-left: 0.2em;position: relative;}#sk-container-id-3 div.sk-item {position: relative;z-index: 1;}#sk-container-id-3 div.sk-parallel {display: flex;align-items: stretch;justify-content: center;background-color: white;position: relative;}#sk-container-id-3 div.sk-item::before, #sk-container-id-3 div.sk-parallel-item::before {content: \"\";position: absolute;border-left: 1px solid gray;box-sizing: border-box;top: 0;bottom: 0;left: 50%;z-index: -1;}#sk-container-id-3 div.sk-parallel-item {display: flex;flex-direction: column;z-index: 1;position: relative;background-color: white;}#sk-container-id-3 div.sk-parallel-item:first-child::after {align-self: flex-end;width: 50%;}#sk-container-id-3 div.sk-parallel-item:last-child::after {align-self: flex-start;width: 50%;}#sk-container-id-3 div.sk-parallel-item:only-child::after {width: 0;}#sk-container-id-3 div.sk-dashed-wrapped {border: 1px dashed gray;margin: 0 0.4em 0.5em 0.4em;box-sizing: border-box;padding-bottom: 0.4em;background-color: white;}#sk-container-id-3 div.sk-label label {font-family: monospace;font-weight: bold;display: inline-block;line-height: 1.2em;}#sk-container-id-3 div.sk-label-container {text-align: center;}#sk-container-id-3 div.sk-container {/* jupyter's `normalize.less` sets `[hidden] { display: none; }` but bootstrap.min.css set `[hidden] { display: none !important; }` so we also need the `!important` here to be able to override the default hidden behavior on the sphinx rendered scikit-learn.org. See: https://github.com/scikit-learn/scikit-learn/issues/21755 */display: inline-block !important;position: relative;}#sk-container-id-3 div.sk-text-repr-fallback {display: none;}</style><div id=\"sk-container-id-3\" class=\"sk-top-container\"><div class=\"sk-text-repr-fallback\"><pre>CountVectorizer(decode_error=&#x27;ignore&#x27;, max_features=5000,\n",
       "                preprocessor=&lt;function dummy at 0x7f45c07bfba0&gt;,\n",
       "                tokenizer=&lt;function dummy at 0x7f45c07bfba0&gt;)</pre><b>In a Jupyter environment, please rerun this cell to show the HTML representation or trust the notebook. <br />On GitHub, the HTML representation is unable to render, please try loading this page with nbviewer.org.</b></div><div class=\"sk-container\" hidden><div class=\"sk-item\"><div class=\"sk-estimator sk-toggleable\"><input class=\"sk-toggleable__control sk-hidden--visually\" id=\"sk-estimator-id-3\" type=\"checkbox\" checked><label for=\"sk-estimator-id-3\" class=\"sk-toggleable__label sk-toggleable__label-arrow\">CountVectorizer</label><div class=\"sk-toggleable__content\"><pre>CountVectorizer(decode_error=&#x27;ignore&#x27;, max_features=5000,\n",
       "                preprocessor=&lt;function dummy at 0x7f45c07bfba0&gt;,\n",
       "                tokenizer=&lt;function dummy at 0x7f45c07bfba0&gt;)</pre></div></div></div></div></div>"
      ],
      "text/plain": [
       "CountVectorizer(decode_error='ignore', max_features=5000,\n",
       "                preprocessor=<function dummy at 0x7f45c07bfba0>,\n",
       "                tokenizer=<function dummy at 0x7f45c07bfba0>)"
      ]
     },
     "execution_count": 33,
     "metadata": {},
     "output_type": "execute_result"
    }
   ],
   "source": [
    "from sklearn.feature_extraction.text import CountVectorizer\n",
    "\n",
    "def dummy(doc):\n",
    "    return doc\n",
    "\n",
    "vectorizer = CountVectorizer(\n",
    "    decode_error='ignore',\n",
    "    tokenizer=dummy,\n",
    "    preprocessor=dummy,\n",
    "    max_features=5000\n",
    ")\n",
    "\n",
    "vectorizer.fit(X_train)"
   ]
  },
  {
   "cell_type": "markdown",
   "id": "abad1baa-5462-4c46-8795-533b27ce6595",
   "metadata": {},
   "source": [
    "# Data Transformation"
   ]
  },
  {
   "cell_type": "code",
   "execution_count": 34,
   "id": "52084a55-e366-4ef9-b5b4-a1079b30f309",
   "metadata": {
    "tags": []
   },
   "outputs": [],
   "source": [
    "X_train_transformed = vectorizer.transform(X_train)\n",
    "X_test_transformed = vectorizer.transform(X_test)\n",
    "\n",
    "y_train_transformed = np.array(y_train)\n",
    "y_test_transformed = np.array(y_test)"
   ]
  },
  {
   "cell_type": "code",
   "execution_count": 35,
   "id": "b7d71429-9458-4bf8-8fc1-1b6a830d4a2b",
   "metadata": {
    "tags": []
   },
   "outputs": [],
   "source": [
    "full_train = np.concatenate(\n",
    "    [X_train_transformed.toarray(), y_train_transformed.reshape(-1, 1)],\n",
    "    axis=1\n",
    ")"
   ]
  },
  {
   "cell_type": "markdown",
   "id": "1323dc01-f031-4509-a960-9c82f69b42ee",
   "metadata": {},
   "source": [
    "# Modeling"
   ]
  },
  {
   "cell_type": "markdown",
   "id": "f342dd49-865c-4544-83a0-e001b6936d47",
   "metadata": {},
   "source": [
    "## Logistic Regression"
   ]
  },
  {
   "cell_type": "code",
   "execution_count": 36,
   "id": "b5163bcb-2dd8-4af7-8f69-36d1af322af8",
   "metadata": {
    "tags": []
   },
   "outputs": [],
   "source": [
    "from sklearn.linear_model import LogisticRegression\n",
    "\n",
    "lr_model = LogisticRegression(random_state=0)"
   ]
  },
  {
   "cell_type": "code",
   "execution_count": 37,
   "id": "8c05ac7a-8841-435f-bd40-11f561034527",
   "metadata": {
    "tags": []
   },
   "outputs": [
    {
     "name": "stdout",
     "output_type": "stream",
     "text": [
      "[Parallel(n_jobs=1)]: Using backend SequentialBackend with 1 concurrent workers.\n",
      "[CV] START .....................................................................\n"
     ]
    },
    {
     "name": "stderr",
     "output_type": "stream",
     "text": [
      "/home/alfian/.local/lib/python3.11/site-packages/sklearn/linear_model/_logistic.py:458: ConvergenceWarning: lbfgs failed to converge (status=1):\n",
      "STOP: TOTAL NO. of ITERATIONS REACHED LIMIT.\n",
      "\n",
      "Increase the number of iterations (max_iter) or scale the data as shown in:\n",
      "    https://scikit-learn.org/stable/modules/preprocessing.html\n",
      "Please also refer to the documentation for alternative solver options:\n",
      "    https://scikit-learn.org/stable/modules/linear_model.html#logistic-regression\n",
      "  n_iter_i = _check_optimize_result(\n"
     ]
    },
    {
     "name": "stdout",
     "output_type": "stream",
     "text": [
      "[CV] END ................................ score: (test=0.942) total time=   0.7s\n",
      "[Parallel(n_jobs=1)]: Done   1 out of   1 | elapsed:    0.8s remaining:    0.0s\n",
      "[CV] START .....................................................................\n",
      "[CV] END ................................ score: (test=0.954) total time=   0.3s\n",
      "[Parallel(n_jobs=1)]: Done   2 out of   2 | elapsed:    1.1s remaining:    0.0s\n",
      "[CV] START .....................................................................\n"
     ]
    },
    {
     "name": "stderr",
     "output_type": "stream",
     "text": [
      "/home/alfian/.local/lib/python3.11/site-packages/sklearn/linear_model/_logistic.py:458: ConvergenceWarning: lbfgs failed to converge (status=1):\n",
      "STOP: TOTAL NO. of ITERATIONS REACHED LIMIT.\n",
      "\n",
      "Increase the number of iterations (max_iter) or scale the data as shown in:\n",
      "    https://scikit-learn.org/stable/modules/preprocessing.html\n",
      "Please also refer to the documentation for alternative solver options:\n",
      "    https://scikit-learn.org/stable/modules/linear_model.html#logistic-regression\n",
      "  n_iter_i = _check_optimize_result(\n"
     ]
    },
    {
     "name": "stdout",
     "output_type": "stream",
     "text": [
      "[CV] END ................................ score: (test=0.952) total time=   0.3s\n",
      "[Parallel(n_jobs=1)]: Done   3 out of   3 | elapsed:    1.4s remaining:    0.0s\n",
      "[CV] START .....................................................................\n",
      "[CV] END ................................ score: (test=0.956) total time=   0.3s\n",
      "[Parallel(n_jobs=1)]: Done   4 out of   4 | elapsed:    1.7s remaining:    0.0s\n",
      "[CV] START .....................................................................\n"
     ]
    },
    {
     "name": "stderr",
     "output_type": "stream",
     "text": [
      "/home/alfian/.local/lib/python3.11/site-packages/sklearn/linear_model/_logistic.py:458: ConvergenceWarning: lbfgs failed to converge (status=1):\n",
      "STOP: TOTAL NO. of ITERATIONS REACHED LIMIT.\n",
      "\n",
      "Increase the number of iterations (max_iter) or scale the data as shown in:\n",
      "    https://scikit-learn.org/stable/modules/preprocessing.html\n",
      "Please also refer to the documentation for alternative solver options:\n",
      "    https://scikit-learn.org/stable/modules/linear_model.html#logistic-regression\n",
      "  n_iter_i = _check_optimize_result(\n"
     ]
    },
    {
     "name": "stdout",
     "output_type": "stream",
     "text": [
      "[CV] END ................................ score: (test=0.948) total time=   0.3s\n",
      "[Parallel(n_jobs=1)]: Done   5 out of   5 | elapsed:    2.1s remaining:    0.0s\n",
      "[CV] START .....................................................................\n",
      "[CV] END ................................ score: (test=0.944) total time=   0.3s\n",
      "[Parallel(n_jobs=1)]: Done   6 out of   6 | elapsed:    2.4s remaining:    0.0s\n",
      "[CV] START .....................................................................\n"
     ]
    },
    {
     "name": "stderr",
     "output_type": "stream",
     "text": [
      "/home/alfian/.local/lib/python3.11/site-packages/sklearn/linear_model/_logistic.py:458: ConvergenceWarning: lbfgs failed to converge (status=1):\n",
      "STOP: TOTAL NO. of ITERATIONS REACHED LIMIT.\n",
      "\n",
      "Increase the number of iterations (max_iter) or scale the data as shown in:\n",
      "    https://scikit-learn.org/stable/modules/preprocessing.html\n",
      "Please also refer to the documentation for alternative solver options:\n",
      "    https://scikit-learn.org/stable/modules/linear_model.html#logistic-regression\n",
      "  n_iter_i = _check_optimize_result(\n"
     ]
    },
    {
     "name": "stdout",
     "output_type": "stream",
     "text": [
      "[CV] END ................................ score: (test=0.956) total time=   0.3s\n",
      "[Parallel(n_jobs=1)]: Done   7 out of   7 | elapsed:    2.7s remaining:    0.0s\n",
      "[CV] START .....................................................................\n"
     ]
    },
    {
     "name": "stderr",
     "output_type": "stream",
     "text": [
      "/home/alfian/.local/lib/python3.11/site-packages/sklearn/linear_model/_logistic.py:458: ConvergenceWarning: lbfgs failed to converge (status=1):\n",
      "STOP: TOTAL NO. of ITERATIONS REACHED LIMIT.\n",
      "\n",
      "Increase the number of iterations (max_iter) or scale the data as shown in:\n",
      "    https://scikit-learn.org/stable/modules/preprocessing.html\n",
      "Please also refer to the documentation for alternative solver options:\n",
      "    https://scikit-learn.org/stable/modules/linear_model.html#logistic-regression\n",
      "  n_iter_i = _check_optimize_result(\n"
     ]
    },
    {
     "name": "stdout",
     "output_type": "stream",
     "text": [
      "[CV] END ................................ score: (test=0.950) total time=   0.3s\n",
      "[Parallel(n_jobs=1)]: Done   8 out of   8 | elapsed:    3.0s remaining:    0.0s\n",
      "[CV] START .....................................................................\n"
     ]
    },
    {
     "name": "stderr",
     "output_type": "stream",
     "text": [
      "/home/alfian/.local/lib/python3.11/site-packages/sklearn/linear_model/_logistic.py:458: ConvergenceWarning: lbfgs failed to converge (status=1):\n",
      "STOP: TOTAL NO. of ITERATIONS REACHED LIMIT.\n",
      "\n",
      "Increase the number of iterations (max_iter) or scale the data as shown in:\n",
      "    https://scikit-learn.org/stable/modules/preprocessing.html\n",
      "Please also refer to the documentation for alternative solver options:\n",
      "    https://scikit-learn.org/stable/modules/linear_model.html#logistic-regression\n",
      "  n_iter_i = _check_optimize_result(\n"
     ]
    },
    {
     "name": "stdout",
     "output_type": "stream",
     "text": [
      "[CV] END ................................ score: (test=0.937) total time=   0.3s\n",
      "[Parallel(n_jobs=1)]: Done   9 out of   9 | elapsed:    3.3s remaining:    0.0s\n",
      "[CV] START .....................................................................\n",
      "[CV] END ................................ score: (test=0.944) total time=   0.3s\n",
      "[Parallel(n_jobs=1)]: Done  10 out of  10 | elapsed:    3.6s remaining:    0.0s\n",
      "[Parallel(n_jobs=1)]: Done  10 out of  10 | elapsed:    3.6s finished\n"
     ]
    },
    {
     "name": "stderr",
     "output_type": "stream",
     "text": [
      "/home/alfian/.local/lib/python3.11/site-packages/sklearn/linear_model/_logistic.py:458: ConvergenceWarning: lbfgs failed to converge (status=1):\n",
      "STOP: TOTAL NO. of ITERATIONS REACHED LIMIT.\n",
      "\n",
      "Increase the number of iterations (max_iter) or scale the data as shown in:\n",
      "    https://scikit-learn.org/stable/modules/preprocessing.html\n",
      "Please also refer to the documentation for alternative solver options:\n",
      "    https://scikit-learn.org/stable/modules/linear_model.html#logistic-regression\n",
      "  n_iter_i = _check_optimize_result(\n"
     ]
    }
   ],
   "source": [
    "from sklearn.model_selection import cross_val_score\n",
    "\n",
    "lr_cv = cross_val_score(\n",
    "    lr_model,\n",
    "    X_train_transformed,\n",
    "    y_train_transformed,\n",
    "    cv=10,\n",
    "    scoring='accuracy',\n",
    "    verbose=100\n",
    ")"
   ]
  },
  {
   "cell_type": "code",
   "execution_count": 38,
   "id": "6350587b-c40c-4169-9d4c-8c66eb8e6449",
   "metadata": {
    "tags": []
   },
   "outputs": [
    {
     "data": {
      "text/plain": [
       "0.9482984636175937"
      ]
     },
     "execution_count": 38,
     "metadata": {},
     "output_type": "execute_result"
    }
   ],
   "source": [
    "lr_cv.mean()"
   ]
  },
  {
   "cell_type": "markdown",
   "id": "5865edff-7c1e-478a-bfea-81f36ae5a59c",
   "metadata": {},
   "source": [
    "## Neural Network"
   ]
  },
  {
   "cell_type": "code",
   "execution_count": 51,
   "id": "ff0b1782-b0bb-46e9-934c-ed4407b605c4",
   "metadata": {
    "tags": []
   },
   "outputs": [
    {
     "name": "stdout",
     "output_type": "stream",
     "text": [
      "Epoch 1/50\n",
      "106/106 [==============================] - 9s 22ms/step - loss: 0.6925 - accuracy: 0.5172 - val_loss: 0.6905 - val_accuracy: 0.6327\n",
      "Epoch 2/50\n",
      "106/106 [==============================] - 1s 13ms/step - loss: 0.6857 - accuracy: 0.6054 - val_loss: 0.6758 - val_accuracy: 0.7979\n",
      "Epoch 3/50\n",
      "106/106 [==============================] - 2s 15ms/step - loss: 0.6656 - accuracy: 0.7030 - val_loss: 0.6417 - val_accuracy: 0.8761\n",
      "Epoch 4/50\n",
      "106/106 [==============================] - 2s 16ms/step - loss: 0.6294 - accuracy: 0.7711 - val_loss: 0.5961 - val_accuracy: 0.9013\n",
      "Epoch 5/50\n",
      "106/106 [==============================] - 1s 12ms/step - loss: 0.5872 - accuracy: 0.8102 - val_loss: 0.5468 - val_accuracy: 0.9091\n",
      "Epoch 6/50\n",
      "106/106 [==============================] - 1s 12ms/step - loss: 0.5430 - accuracy: 0.8368 - val_loss: 0.4965 - val_accuracy: 0.9136\n",
      "Epoch 7/50\n",
      "106/106 [==============================] - 1s 12ms/step - loss: 0.4998 - accuracy: 0.8568 - val_loss: 0.4475 - val_accuracy: 0.9183\n",
      "Epoch 8/50\n",
      "106/106 [==============================] - 2s 15ms/step - loss: 0.4619 - accuracy: 0.8727 - val_loss: 0.4019 - val_accuracy: 0.9210\n",
      "Epoch 9/50\n",
      "106/106 [==============================] - 1s 13ms/step - loss: 0.4249 - accuracy: 0.8844 - val_loss: 0.3608 - val_accuracy: 0.9247\n",
      "Epoch 10/50\n",
      "106/106 [==============================] - 1s 12ms/step - loss: 0.3908 - accuracy: 0.8918 - val_loss: 0.3242 - val_accuracy: 0.9271\n",
      "Epoch 11/50\n",
      "106/106 [==============================] - 1s 12ms/step - loss: 0.3618 - accuracy: 0.9033 - val_loss: 0.2927 - val_accuracy: 0.9295\n",
      "Epoch 12/50\n",
      "106/106 [==============================] - 1s 13ms/step - loss: 0.3352 - accuracy: 0.9078 - val_loss: 0.2659 - val_accuracy: 0.9310\n",
      "Epoch 13/50\n",
      "106/106 [==============================] - 1s 13ms/step - loss: 0.3114 - accuracy: 0.9132 - val_loss: 0.2435 - val_accuracy: 0.9327\n",
      "Epoch 14/50\n",
      "106/106 [==============================] - 1s 13ms/step - loss: 0.2956 - accuracy: 0.9183 - val_loss: 0.2254 - val_accuracy: 0.9343\n",
      "Epoch 15/50\n",
      "106/106 [==============================] - 1s 12ms/step - loss: 0.2784 - accuracy: 0.9236 - val_loss: 0.2102 - val_accuracy: 0.9361\n",
      "Epoch 16/50\n",
      "106/106 [==============================] - 1s 12ms/step - loss: 0.2614 - accuracy: 0.9256 - val_loss: 0.1979 - val_accuracy: 0.9371\n",
      "Epoch 17/50\n",
      "106/106 [==============================] - 1s 12ms/step - loss: 0.2467 - accuracy: 0.9319 - val_loss: 0.1879 - val_accuracy: 0.9375\n",
      "Epoch 18/50\n",
      "106/106 [==============================] - 1s 12ms/step - loss: 0.2352 - accuracy: 0.9334 - val_loss: 0.1795 - val_accuracy: 0.9382\n",
      "Epoch 19/50\n",
      "106/106 [==============================] - 1s 13ms/step - loss: 0.2262 - accuracy: 0.9355 - val_loss: 0.1724 - val_accuracy: 0.9396\n",
      "Epoch 20/50\n",
      "106/106 [==============================] - 1s 12ms/step - loss: 0.2106 - accuracy: 0.9407 - val_loss: 0.1664 - val_accuracy: 0.9399\n",
      "Epoch 21/50\n",
      "106/106 [==============================] - 1s 12ms/step - loss: 0.2039 - accuracy: 0.9427 - val_loss: 0.1616 - val_accuracy: 0.9401\n",
      "Epoch 22/50\n",
      "106/106 [==============================] - 1s 13ms/step - loss: 0.1927 - accuracy: 0.9462 - val_loss: 0.1575 - val_accuracy: 0.9404\n",
      "Epoch 23/50\n",
      "106/106 [==============================] - 1s 12ms/step - loss: 0.1868 - accuracy: 0.9476 - val_loss: 0.1542 - val_accuracy: 0.9420\n",
      "Epoch 24/50\n",
      "106/106 [==============================] - 1s 13ms/step - loss: 0.1790 - accuracy: 0.9501 - val_loss: 0.1516 - val_accuracy: 0.9420\n",
      "Epoch 25/50\n",
      "106/106 [==============================] - 1s 12ms/step - loss: 0.1714 - accuracy: 0.9528 - val_loss: 0.1490 - val_accuracy: 0.9433\n",
      "Epoch 26/50\n",
      "106/106 [==============================] - 1s 13ms/step - loss: 0.1680 - accuracy: 0.9522 - val_loss: 0.1467 - val_accuracy: 0.9434\n",
      "Epoch 27/50\n",
      "106/106 [==============================] - 1s 13ms/step - loss: 0.1620 - accuracy: 0.9552 - val_loss: 0.1454 - val_accuracy: 0.9441\n",
      "Epoch 28/50\n",
      "106/106 [==============================] - 1s 12ms/step - loss: 0.1574 - accuracy: 0.9553 - val_loss: 0.1441 - val_accuracy: 0.9450\n",
      "Epoch 29/50\n",
      "106/106 [==============================] - 1s 12ms/step - loss: 0.1506 - accuracy: 0.9573 - val_loss: 0.1429 - val_accuracy: 0.9447\n",
      "Epoch 30/50\n",
      "106/106 [==============================] - 1s 12ms/step - loss: 0.1482 - accuracy: 0.9561 - val_loss: 0.1418 - val_accuracy: 0.9452\n",
      "Epoch 31/50\n",
      "106/106 [==============================] - 1s 12ms/step - loss: 0.1450 - accuracy: 0.9581 - val_loss: 0.1416 - val_accuracy: 0.9453\n",
      "Epoch 32/50\n",
      "106/106 [==============================] - 1s 12ms/step - loss: 0.1381 - accuracy: 0.9614 - val_loss: 0.1408 - val_accuracy: 0.9452\n",
      "Epoch 33/50\n",
      "106/106 [==============================] - 1s 12ms/step - loss: 0.1359 - accuracy: 0.9610 - val_loss: 0.1403 - val_accuracy: 0.9460\n",
      "Epoch 34/50\n",
      "106/106 [==============================] - 1s 13ms/step - loss: 0.1315 - accuracy: 0.9646 - val_loss: 0.1400 - val_accuracy: 0.9464\n",
      "Epoch 35/50\n",
      "106/106 [==============================] - 1s 12ms/step - loss: 0.1265 - accuracy: 0.9647 - val_loss: 0.1403 - val_accuracy: 0.9463\n",
      "Epoch 36/50\n",
      "106/106 [==============================] - 1s 14ms/step - loss: 0.1259 - accuracy: 0.9648 - val_loss: 0.1406 - val_accuracy: 0.9459\n",
      "Epoch 37/50\n",
      "106/106 [==============================] - 1s 13ms/step - loss: 0.1228 - accuracy: 0.9653 - val_loss: 0.1402 - val_accuracy: 0.9468\n",
      "Epoch 38/50\n",
      "106/106 [==============================] - 1s 13ms/step - loss: 0.1197 - accuracy: 0.9669 - val_loss: 0.1400 - val_accuracy: 0.9476\n",
      "Epoch 39/50\n",
      "106/106 [==============================] - 1s 13ms/step - loss: 0.1188 - accuracy: 0.9663 - val_loss: 0.1399 - val_accuracy: 0.9481\n",
      "Epoch 40/50\n",
      "106/106 [==============================] - 1s 12ms/step - loss: 0.1112 - accuracy: 0.9684 - val_loss: 0.1403 - val_accuracy: 0.9488\n",
      "Epoch 41/50\n",
      "106/106 [==============================] - 1s 12ms/step - loss: 0.1098 - accuracy: 0.9690 - val_loss: 0.1404 - val_accuracy: 0.9489\n",
      "Epoch 42/50\n",
      "106/106 [==============================] - 1s 13ms/step - loss: 0.1077 - accuracy: 0.9711 - val_loss: 0.1409 - val_accuracy: 0.9499\n",
      "Epoch 43/50\n",
      "106/106 [==============================] - 1s 13ms/step - loss: 0.1054 - accuracy: 0.9712 - val_loss: 0.1415 - val_accuracy: 0.9493\n",
      "Epoch 44/50\n",
      "106/106 [==============================] - 1s 13ms/step - loss: 0.1047 - accuracy: 0.9713 - val_loss: 0.1420 - val_accuracy: 0.9490\n",
      "Epoch 45/50\n",
      "106/106 [==============================] - 1s 12ms/step - loss: 0.1023 - accuracy: 0.9717 - val_loss: 0.1419 - val_accuracy: 0.9499\n",
      "Epoch 46/50\n",
      "106/106 [==============================] - 1s 13ms/step - loss: 0.0988 - accuracy: 0.9733 - val_loss: 0.1424 - val_accuracy: 0.9493\n",
      "Epoch 47/50\n",
      "106/106 [==============================] - 1s 14ms/step - loss: 0.0964 - accuracy: 0.9737 - val_loss: 0.1433 - val_accuracy: 0.9491\n",
      "Epoch 48/50\n",
      "106/106 [==============================] - 1s 13ms/step - loss: 0.0949 - accuracy: 0.9742 - val_loss: 0.1439 - val_accuracy: 0.9499\n",
      "Epoch 49/50\n",
      "106/106 [==============================] - 1s 13ms/step - loss: 0.0919 - accuracy: 0.9756 - val_loss: 0.1447 - val_accuracy: 0.9499\n",
      "Epoch 50/50\n",
      "106/106 [==============================] - 1s 12ms/step - loss: 0.0899 - accuracy: 0.9758 - val_loss: 0.1460 - val_accuracy: 0.9501\n"
     ]
    }
   ],
   "source": [
    "from tensorflow.keras import Sequential, layers, callbacks, optimizers\n",
    "\n",
    "nn_model = Sequential([\n",
    "    layers.Dense(32, activation=\"relu\"),\n",
    "    layers.Dropout(0.4),\n",
    "    layers.Dense(16, activation=\"relu\"),\n",
    "    layers.Dropout(0.4),\n",
    "    layers.Dense(8, activation=\"relu\"),\n",
    "    layers.Dropout(0.2),\n",
    "    layers.Dense(1, activation=\"sigmoid\")\n",
    "])\n",
    "\n",
    "nn_model.compile(\n",
    "    optimizer=optimizers.Adam(learning_rate=0.00007),\n",
    "    loss='binary_crossentropy',\n",
    "    metrics=['accuracy']\n",
    ")\n",
    "\n",
    "nn_model_history = nn_model.fit(\n",
    "    X_train_transformed.toarray(),\n",
    "    y_train_transformed,\n",
    "    epochs=50,\n",
    "    batch_size=256,\n",
    "    validation_split=0.25,\n",
    "    callbacks=[\n",
    "        callbacks.EarlyStopping(patience=20, restore_best_weights=True)\n",
    "    ]\n",
    ")"
   ]
  },
  {
   "cell_type": "code",
   "execution_count": 52,
   "id": "f3301f2e-10f4-498b-944c-382a430ebab2",
   "metadata": {
    "tags": []
   },
   "outputs": [
    {
     "data": {
      "image/png": "[encoded data removed]",
      "text/plain": [
       "<Figure size 640x480 with 1 Axes>"
      ]
     },
     "metadata": {},
     "output_type": "display_data"
    }
   ],
   "source": [
    "pd.DataFrame(nn_model_history.history)[['loss', 'val_loss']].plot()\n",
    "\n",
    "plt.title('Loss Graph')\n",
    "\n",
    "plt.xlabel('Epochs')\n",
    "plt.ylabel('Loss Value')\n",
    "\n",
    "plt.show()"
   ]
  }
 ],
 "metadata": {
  "kernelspec": {
   "display_name": "Python 3 (ipykernel)",
   "language": "python",
   "name": "python3"
  },
  "language_info": {
   "codemirror_mode": {
    "name": "ipython",
    "version": 3
   },
   "file_extension": ".py",
   "mimetype": "text/x-python",
   "name": "python",
   "nbconvert_exporter": "python",
   "pygments_lexer": "ipython3",
   "version": "3.11.0"
  }
 },
 "nbformat": 4,
 "nbformat_minor": 5
}
