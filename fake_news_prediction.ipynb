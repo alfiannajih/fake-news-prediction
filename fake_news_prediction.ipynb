{
 "cells": [
  {
   "cell_type": "markdown",
   "id": "722395a7-969f-499a-a466-97e333aa7a08",
   "metadata": {},
   "source": [
    "# Preparation"
   ]
  },
  {
   "cell_type": "markdown",
   "id": "15f5c32e-0b8c-4390-8346-8154e9e304a8",
   "metadata": {},
   "source": [
    "## Import Library"
   ]
  },
  {
   "cell_type": "code",
   "execution_count": 1,
   "id": "d3356990-af40-48f2-b32e-06a57d7edd9b",
   "metadata": {
    "tags": []
   },
   "outputs": [],
   "source": [
    "import numpy as np\n",
    "import pandas as pd\n",
    "import seaborn as sns\n",
    "from matplotlib import pyplot as plt\n",
    "from zipfile import ZipFile"
   ]
  },
  {
   "cell_type": "markdown",
   "id": "d3e888a6-158a-413a-8613-021d64cfc35b",
   "metadata": {},
   "source": [
    "## Import Data"
   ]
  },
  {
   "cell_type": "code",
   "execution_count": 2,
   "id": "904e4840-e35b-437a-a5d6-3a9fcb66acc9",
   "metadata": {
    "tags": []
   },
   "outputs": [
    {
     "name": "stdout",
     "output_type": "stream",
     "text": [
      "['Fake.csv', 'True.csv']\n"
     ]
    }
   ],
   "source": [
    "with ZipFile('fake-and-real-news-dataset.zip') as raw_zip:\n",
    "    raw_zip.extractall(path='datasets')\n",
    "    \n",
    "    file_name = raw_zip.namelist()\n",
    "    \n",
    "    raw_data = []\n",
    "    \n",
    "    for file in file_name:\n",
    "        raw_data.append(pd.read_csv(f'datasets/{file}'))\n",
    "        \n",
    "    print(file_name)"
   ]
  },
  {
   "cell_type": "code",
   "execution_count": 9,
   "id": "2a584df5-52d5-4657-9d43-806d3bc21c45",
   "metadata": {
    "tags": []
   },
   "outputs": [],
   "source": [
    "fake_news = raw_data[0]\n",
    "real_news = raw_data[1]"
   ]
  },
  {
   "cell_type": "markdown",
   "id": "58127150-ce61-4bb3-bb3e-b2f97f1f690e",
   "metadata": {},
   "source": [
    "## Sampling Data"
   ]
  },
  {
   "cell_type": "code",
   "execution_count": 34,
   "id": "b41861fd-d212-4bb1-b0ee-855d3e99654a",
   "metadata": {
    "tags": []
   },
   "outputs": [],
   "source": [
    "from sklearn.utils.random import sample_without_replacement\n",
    "\n",
    "fake_news_index_sampling = sample_without_replacement(fake_news.shape[0], 5000, random_state=0)\n",
    "real_news_index_sampling = sample_without_replacement(real_news.shape[0], 5000, random_state=0)\n",
    "\n",
    "fake_news_sampled = fake_news.loc[fake_news_index_sampling]\n",
    "real_news_sampled = real_news.loc[real_news_index_sampling]"
   ]
  },
  {
   "cell_type": "markdown",
   "id": "4d2992c3-f148-47f8-815e-5102acb0e770",
   "metadata": {},
   "source": [
    "## Add Label"
   ]
  },
  {
   "cell_type": "code",
   "execution_count": 40,
   "id": "865909dc-249e-4f68-9e0d-092c174f767d",
   "metadata": {
    "tags": []
   },
   "outputs": [],
   "source": [
    "fake_news_sampled['fake'] = 1\n",
    "real_news_sampled['fake'] = 0"
   ]
  },
  {
   "cell_type": "markdown",
   "id": "c1252dcb-446f-4d4e-94ea-f6701bc38deb",
   "metadata": {},
   "source": [
    "## Concat Data"
   ]
  },
  {
   "cell_type": "code",
   "execution_count": 42,
   "id": "f3d3ed49-d800-4ae2-b895-e616ee3d5e9a",
   "metadata": {
    "tags": []
   },
   "outputs": [
    {
     "data": {
      "text/html": [
       "<div>\n",
       "<style scoped>\n",
       "    .dataframe tbody tr th:only-of-type {\n",
       "        vertical-align: middle;\n",
       "    }\n",
       "\n",
       "    .dataframe tbody tr th {\n",
       "        vertical-align: top;\n",
       "    }\n",
       "\n",
       "    .dataframe thead th {\n",
       "        text-align: right;\n",
       "    }\n",
       "</style>\n",
       "<table border=\"1\" class=\"dataframe\">\n",
       "  <thead>\n",
       "    <tr style=\"text-align: right;\">\n",
       "      <th></th>\n",
       "      <th>title</th>\n",
       "      <th>text</th>\n",
       "      <th>subject</th>\n",
       "      <th>date</th>\n",
       "      <th>fake</th>\n",
       "    </tr>\n",
       "  </thead>\n",
       "  <tbody>\n",
       "    <tr>\n",
       "      <th>9997</th>\n",
       "      <td>Heaven’s Gatekeeper? Jesse Jackson Proclaims T...</td>\n",
       "      <td>Jesse Jackson thinks he s Heaven s gatekeeper ...</td>\n",
       "      <td>politics</td>\n",
       "      <td>Sep 2, 2017</td>\n",
       "      <td>1</td>\n",
       "    </tr>\n",
       "    <tr>\n",
       "      <th>8035</th>\n",
       "      <td>Here’s What The World’s Top Economist Is Sayi...</td>\n",
       "      <td>Thomas Piketty, the French economist who start...</td>\n",
       "      <td>News</td>\n",
       "      <td>February 17, 2016</td>\n",
       "      <td>1</td>\n",
       "    </tr>\n",
       "    <tr>\n",
       "      <th>644</th>\n",
       "      <td>Five Times Five-Time Draft Dodger Donald Trum...</td>\n",
       "      <td>Instead of honoring Purple Heart Day, Trump be...</td>\n",
       "      <td>News</td>\n",
       "      <td>August 7, 2017</td>\n",
       "      <td>1</td>\n",
       "    </tr>\n",
       "    <tr>\n",
       "      <th>5105</th>\n",
       "      <td>Hillary Clinton: Trump ‘Crossed The Line’ Wit...</td>\n",
       "      <td>Hillary Clinton took a swing back at Donald Tr...</td>\n",
       "      <td>News</td>\n",
       "      <td>August 10, 2016</td>\n",
       "      <td>1</td>\n",
       "    </tr>\n",
       "    <tr>\n",
       "      <th>21573</th>\n",
       "      <td>FATHER OF HIGH SCHOOL FOOTBALL STAR SHOT AND K...</td>\n",
       "      <td>They shot him in the head with a  45. They fo...</td>\n",
       "      <td>left-news</td>\n",
       "      <td>Jul 11, 2015</td>\n",
       "      <td>1</td>\n",
       "    </tr>\n",
       "  </tbody>\n",
       "</table>\n",
       "</div>"
      ],
      "text/plain": [
       "                                                   title  \\\n",
       "9997   Heaven’s Gatekeeper? Jesse Jackson Proclaims T...   \n",
       "8035    Here’s What The World’s Top Economist Is Sayi...   \n",
       "644     Five Times Five-Time Draft Dodger Donald Trum...   \n",
       "5105    Hillary Clinton: Trump ‘Crossed The Line’ Wit...   \n",
       "21573  FATHER OF HIGH SCHOOL FOOTBALL STAR SHOT AND K...   \n",
       "\n",
       "                                                    text    subject  \\\n",
       "9997   Jesse Jackson thinks he s Heaven s gatekeeper ...   politics   \n",
       "8035   Thomas Piketty, the French economist who start...       News   \n",
       "644    Instead of honoring Purple Heart Day, Trump be...       News   \n",
       "5105   Hillary Clinton took a swing back at Donald Tr...       News   \n",
       "21573   They shot him in the head with a  45. They fo...  left-news   \n",
       "\n",
       "                    date  fake  \n",
       "9997         Sep 2, 2017     1  \n",
       "8035   February 17, 2016     1  \n",
       "644       August 7, 2017     1  \n",
       "5105     August 10, 2016     1  \n",
       "21573       Jul 11, 2015     1  "
      ]
     },
     "execution_count": 42,
     "metadata": {},
     "output_type": "execute_result"
    }
   ],
   "source": [
    "full_data = pd.concat([fake_news_sampled, real_news_sampled], axis=0)\n",
    "\n",
    "full_data.head()"
   ]
  },
  {
   "cell_type": "markdown",
   "id": "e2af5eaf-2a16-4033-85bc-a244cfc7ebb0",
   "metadata": {},
   "source": [
    "# Exploratory Data Analysis and Data CLeaning"
   ]
  },
  {
   "cell_type": "markdown",
   "id": "cbb15e55-67e6-4cdf-ab17-6ff34721186d",
   "metadata": {},
   "source": [
    "## News Title"
   ]
  },
  {
   "cell_type": "code",
   "execution_count": null,
   "id": "d956683a-99a0-40df-8d1b-a344a57d6804",
   "metadata": {},
   "outputs": [],
   "source": []
  }
 ],
 "metadata": {
  "kernelspec": {
   "display_name": "Python 3 (ipykernel)",
   "language": "python",
   "name": "python3"
  },
  "language_info": {
   "codemirror_mode": {
    "name": "ipython",
    "version": 3
   },
   "file_extension": ".py",
   "mimetype": "text/x-python",
   "name": "python",
   "nbconvert_exporter": "python",
   "pygments_lexer": "ipython3",
   "version": "3.11.0"
  }
 },
 "nbformat": 4,
 "nbformat_minor": 5
}
